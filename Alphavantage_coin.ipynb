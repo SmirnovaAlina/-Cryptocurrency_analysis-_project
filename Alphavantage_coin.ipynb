{
 "cells": [
  {
   "cell_type": "raw",
   "metadata": {},
   "source": [
    "Alphavantage API\n",
    "Pull data for crypto currency and save to csv"
   ]
  },
  {
   "cell_type": "code",
   "execution_count": 14,
   "metadata": {},
   "outputs": [],
   "source": [
    "# Dependencies and Setup\n",
    "import matplotlib.pyplot as plt\n",
    "import pandas as pd\n",
    "import numpy as np\n",
    "import requests\n",
    "import json\n",
    "import threading\n",
    "import time\n",
    "\n",
    "\n",
    "# Import API key\n",
    "from api_keys import api_key"
   ]
  },
  {
   "cell_type": "markdown",
   "metadata": {},
   "source": [
    "API code"
   ]
  },
  {
   "cell_type": "code",
   "execution_count": 15,
   "metadata": {},
   "outputs": [
    {
     "name": "stdout",
     "output_type": "stream",
     "text": [
      "procedure complete:  1\n",
      "procedure complete:  2\n",
      "procedure complete:  3\n",
      "procedure complete:  4\n",
      "procedure complete:  5\n",
      "procedure complete:  6\n",
      "procedure complete:  7\n",
      "procedure complete:  8\n",
      "procedure complete:  9\n",
      "procedure complete:  10\n",
      "procedure complete:  11\n",
      "procedure complete:  12\n",
      "procedure complete:  13\n",
      "procedure complete:  14\n",
      "procedure complete:  15\n",
      "procedure complete:  16\n",
      "procedure complete:  17\n",
      "procedure complete:  18\n",
      "procedure complete:  19\n",
      "procedure complete:  20\n",
      "procedure complete:  21\n",
      "procedure complete:  22\n",
      "procedure complete:  23\n",
      "procedure complete:  24\n",
      "procedure complete:  25\n",
      "procedure complete:  26\n",
      "procedure complete:  27\n",
      "procedure complete:  28\n"
     ]
    },
    {
     "ename": "IndexError",
     "evalue": "tuple index out of range",
     "output_type": "error",
     "traceback": [
      "\u001b[1;31m---------------------------------------------------------------------------\u001b[0m",
      "\u001b[1;31mIndexError\u001b[0m                                Traceback (most recent call last)",
      "\u001b[1;32m<ipython-input-15-3037596b4e38>\u001b[0m in \u001b[0;36m<module>\u001b[1;34m\u001b[0m\n\u001b[0;32m     18\u001b[0m \u001b[1;32mwhile\u001b[0m \u001b[1;32mTrue\u001b[0m\u001b[1;33m:\u001b[0m\u001b[1;33m\u001b[0m\u001b[1;33m\u001b[0m\u001b[0m\n\u001b[0;32m     19\u001b[0m     \u001b[1;32mif\u001b[0m \u001b[0mi\u001b[0m \u001b[1;33m<\u001b[0m \u001b[1;36m29\u001b[0m\u001b[1;33m:\u001b[0m\u001b[1;33m\u001b[0m\u001b[1;33m\u001b[0m\u001b[0m\n\u001b[1;32m---> 20\u001b[1;33m         \u001b[0mMarket\u001b[0m \u001b[1;33m=\u001b[0m \u001b[0mmi_api\u001b[0m\u001b[1;33m(\u001b[0m\u001b[0mi\u001b[0m\u001b[1;33m)\u001b[0m\u001b[1;33m\u001b[0m\u001b[1;33m\u001b[0m\u001b[0m\n\u001b[0m\u001b[0;32m     21\u001b[0m         \u001b[0mquery_url\u001b[0m \u001b[1;33m=\u001b[0m \u001b[1;34mf\"{url}function={function}&symbol={Market}&apikey={api_key}\"\u001b[0m\u001b[1;33m\u001b[0m\u001b[1;33m\u001b[0m\u001b[0m\n\u001b[0;32m     22\u001b[0m         \u001b[0mcoinDict\u001b[0m\u001b[1;33m.\u001b[0m\u001b[0mupdate\u001b[0m\u001b[1;33m(\u001b[0m\u001b[1;33m{\u001b[0m\u001b[0mMarket\u001b[0m \u001b[1;33m:\u001b[0m \u001b[0mrequests\u001b[0m\u001b[1;33m.\u001b[0m\u001b[0mget\u001b[0m\u001b[1;33m(\u001b[0m\u001b[0mquery_url\u001b[0m\u001b[1;33m)\u001b[0m\u001b[1;33m.\u001b[0m\u001b[0mjson\u001b[0m\u001b[1;33m(\u001b[0m\u001b[1;33m)\u001b[0m\u001b[1;33m}\u001b[0m  \u001b[1;33m)\u001b[0m\u001b[1;33m\u001b[0m\u001b[1;33m\u001b[0m\u001b[0m\n",
      "\u001b[1;32m<ipython-input-15-3037596b4e38>\u001b[0m in \u001b[0;36mmi_api\u001b[1;34m(cnt)\u001b[0m\n\u001b[0;32m      4\u001b[0m                  \u001b[1;33m,\u001b[0m\u001b[1;34m'NXT'\u001b[0m\u001b[1;33m,\u001b[0m\u001b[1;34m'AUR'\u001b[0m\u001b[1;33m,\u001b[0m\u001b[1;34m'DASH'\u001b[0m\u001b[1;33m,\u001b[0m\u001b[1;34m'NEO'\u001b[0m\u001b[1;33m,\u001b[0m\u001b[1;34m'MZC'\u001b[0m\u001b[1;33m,\u001b[0m\u001b[1;34m'XMR'\u001b[0m\u001b[1;33m,\u001b[0m\u001b[1;34m'XEM'\u001b[0m\u001b[1;33m,\u001b[0m\u001b[1;34m'POT'\u001b[0m\u001b[1;33m,\u001b[0m\u001b[1;34m'TIT'\u001b[0m\u001b[1;33m,\u001b[0m\u001b[1;34m'XVG'\u001b[0m\u001b[1;33m\u001b[0m\u001b[1;33m\u001b[0m\u001b[0m\n\u001b[0;32m      5\u001b[0m                 ,'XLM','VTC','ETH','ETC','USDT','ZEC','BCH','EOS')\n\u001b[1;32m----> 6\u001b[1;33m     \u001b[1;32mreturn\u001b[0m \u001b[0mMarketIndex\u001b[0m\u001b[1;33m[\u001b[0m\u001b[0mcnt\u001b[0m\u001b[1;33m]\u001b[0m\u001b[1;33m\u001b[0m\u001b[1;33m\u001b[0m\u001b[0m\n\u001b[0m\u001b[0;32m      7\u001b[0m \u001b[1;33m\u001b[0m\u001b[0m\n\u001b[0;32m      8\u001b[0m \u001b[1;33m\u001b[0m\u001b[0m\n",
      "\u001b[1;31mIndexError\u001b[0m: tuple index out of range"
     ]
    }
   ],
   "source": [
    "# function to run API request\n",
    "def mi_api(cnt):\n",
    "    MarketIndex=('BTC','LTC','NMC','PPC','DOGE','XDG','XBT','GRC','XPM', 'XRP'\n",
    "                 ,'NXT','AUR','DASH','NEO','MZC','XMR','XEM','POT','TIT','XVG'\n",
    "                ,'XLM','VTC','ETH','ETC','USDT','ZEC','BCH','EOS')\n",
    "    return MarketIndex[cnt]\n",
    "\n",
    "    \n",
    "# dictionary to hold the json result    \n",
    "\n",
    "coinDict = {}\n",
    "# setup URL\n",
    "url = \"https://www.alphavantage.co/query?\"\n",
    "function = \"TIME_SERIES_WEEKLY\"\n",
    "    \n",
    "i = 0\n",
    "oldtime = time.time()\n",
    "while True:  \n",
    "    if i < 28:\n",
    "        Market = mi_api(i)\n",
    "        query_url = f\"{url}function={function}&symbol={Market}&apikey={api_key}\"\n",
    "        coinDict.update({Market : requests.get(query_url).json()}  )         \n",
    "    time.sleep(65)\n",
    "    i += 1 \n",
    "    if i == 28:  \n",
    "        break\n",
    "    print(\"procedure complete: \", i)"
   ]
  },
  {
   "cell_type": "raw",
   "metadata": {},
   "source": [
    "Convert to dataframe"
   ]
  },
  {
   "cell_type": "code",
   "execution_count": 16,
   "metadata": {},
   "outputs": [
    {
     "name": "stdout",
     "output_type": "stream",
     "text": [
      "error data not added to dataframe:  NMC\n",
      "error data not added to dataframe:  DOGE\n",
      "error data not added to dataframe:  XDG\n",
      "error data not added to dataframe:  XBT\n",
      "error data not added to dataframe:  XPM\n",
      "error data not added to dataframe:  NXT\n",
      "error data not added to dataframe:  DASH\n",
      "error data not added to dataframe:  MZC\n",
      "error data not added to dataframe:  XMR\n",
      "error data not added to dataframe:  XVG\n",
      "error data not added to dataframe:  USDT\n",
      "error data not added to dataframe:  ZEC\n"
     ]
    },
    {
     "data": {
      "text/html": [
       "<div>\n",
       "<style scoped>\n",
       "    .dataframe tbody tr th:only-of-type {\n",
       "        vertical-align: middle;\n",
       "    }\n",
       "\n",
       "    .dataframe tbody tr th {\n",
       "        vertical-align: top;\n",
       "    }\n",
       "\n",
       "    .dataframe thead th {\n",
       "        text-align: right;\n",
       "    }\n",
       "</style>\n",
       "<table border=\"1\" class=\"dataframe\">\n",
       "  <thead>\n",
       "    <tr style=\"text-align: right;\">\n",
       "      <th></th>\n",
       "      <th>Symbol</th>\n",
       "      <th>Week</th>\n",
       "      <th>Open</th>\n",
       "      <th>High</th>\n",
       "      <th>Low</th>\n",
       "      <th>Close</th>\n",
       "      <th>Volume</th>\n",
       "    </tr>\n",
       "  </thead>\n",
       "  <tbody>\n",
       "    <tr>\n",
       "      <th>0</th>\n",
       "      <td>BTC</td>\n",
       "      <td>2001-08-24</td>\n",
       "      <td>0.0000</td>\n",
       "      <td>0.0000</td>\n",
       "      <td>0.0000</td>\n",
       "      <td>0.0700</td>\n",
       "      <td>0</td>\n",
       "    </tr>\n",
       "    <tr>\n",
       "      <th>1</th>\n",
       "      <td>BTC</td>\n",
       "      <td>2000-11-17</td>\n",
       "      <td>0.0000</td>\n",
       "      <td>0.0000</td>\n",
       "      <td>0.0000</td>\n",
       "      <td>3.0000</td>\n",
       "      <td>0</td>\n",
       "    </tr>\n",
       "    <tr>\n",
       "      <th>2</th>\n",
       "      <td>BTC</td>\n",
       "      <td>2000-08-15</td>\n",
       "      <td>0.0000</td>\n",
       "      <td>0.0000</td>\n",
       "      <td>0.0000</td>\n",
       "      <td>2.5000</td>\n",
       "      <td>0</td>\n",
       "    </tr>\n",
       "    <tr>\n",
       "      <th>3</th>\n",
       "      <td>BTC</td>\n",
       "      <td>2000-08-11</td>\n",
       "      <td>0.0000</td>\n",
       "      <td>0.0000</td>\n",
       "      <td>0.0000</td>\n",
       "      <td>2.1875</td>\n",
       "      <td>0</td>\n",
       "    </tr>\n",
       "    <tr>\n",
       "      <th>4</th>\n",
       "      <td>LTC</td>\n",
       "      <td>2019-03-29</td>\n",
       "      <td>45.1700</td>\n",
       "      <td>46.4400</td>\n",
       "      <td>44.8393</td>\n",
       "      <td>45.8000</td>\n",
       "      <td>929365</td>\n",
       "    </tr>\n",
       "  </tbody>\n",
       "</table>\n",
       "</div>"
      ],
      "text/plain": [
       "  Symbol        Week     Open     High      Low    Close  Volume\n",
       "0    BTC  2001-08-24   0.0000   0.0000   0.0000   0.0700       0\n",
       "1    BTC  2000-11-17   0.0000   0.0000   0.0000   3.0000       0\n",
       "2    BTC  2000-08-15   0.0000   0.0000   0.0000   2.5000       0\n",
       "3    BTC  2000-08-11   0.0000   0.0000   0.0000   2.1875       0\n",
       "4    LTC  2019-03-29  45.1700  46.4400  44.8393  45.8000  929365"
      ]
     },
     "execution_count": 16,
     "metadata": {},
     "output_type": "execute_result"
    }
   ],
   "source": [
    "#create a dataframe for dictionary\n",
    "coinT=pd.DataFrame()\n",
    "coinT['Symbol'] = ''\n",
    "coinT['Week'] = ''\n",
    "coinT['Open'] = ''\n",
    "coinT['High'] = ''\n",
    "coinT['Low'] = ''\n",
    "coinT['Close'] = ''\n",
    "coinT['Volume'] = ''\n",
    "\n",
    "# unpack dictionary result from Json and add to dataframe\n",
    "for key in coinDict:\n",
    "    try:\n",
    "        for lkey in coinDict[key]['Weekly Time Series']:\n",
    "            coinT= coinT.append(pd.Series([key, lkey\n",
    "              , coinDict[key]['Weekly Time Series'][lkey]['1. open']\n",
    "              ,coinDict[key]['Weekly Time Series'][lkey]['2. high']\n",
    "              ,coinDict[key]['Weekly Time Series'][lkey]['3. low']\n",
    "              ,coinDict[key]['Weekly Time Series'][lkey]['4. close']\n",
    "              ,coinDict[key]['Weekly Time Series'][lkey]['5. volume']\n",
    "                                      ], index=coinT.columns), ignore_index=True)\n",
    "            #print(key, lkey)\n",
    "            \n",
    "    except (KeyError, IndexError):\n",
    "        print('error data not added to dataframe: ', key)\n",
    "        \n",
    "\n",
    "#save into CSV\n",
    "coinT.to_csv(\"output/CoinIndex.csv\", index=False, header=True)\n",
    "\n",
    "# view data in datframe\n",
    "coinT.head()"
   ]
  },
  {
   "cell_type": "code",
   "execution_count": null,
   "metadata": {},
   "outputs": [],
   "source": []
  },
  {
   "cell_type": "code",
   "execution_count": null,
   "metadata": {},
   "outputs": [],
   "source": []
  },
  {
   "cell_type": "code",
   "execution_count": null,
   "metadata": {},
   "outputs": [],
   "source": []
  },
  {
   "cell_type": "code",
   "execution_count": null,
   "metadata": {},
   "outputs": [],
   "source": []
  }
 ],
 "metadata": {
  "kernelspec": {
   "display_name": "Python 3",
   "language": "python",
   "name": "python3"
  },
  "language_info": {
   "codemirror_mode": {
    "name": "ipython",
    "version": 3
   },
   "file_extension": ".py",
   "mimetype": "text/x-python",
   "name": "python",
   "nbconvert_exporter": "python",
   "pygments_lexer": "ipython3",
   "version": "3.6.7"
  }
 },
 "nbformat": 4,
 "nbformat_minor": 2
}
