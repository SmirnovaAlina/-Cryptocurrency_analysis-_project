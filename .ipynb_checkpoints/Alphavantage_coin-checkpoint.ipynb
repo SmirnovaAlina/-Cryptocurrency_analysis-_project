{
 "cells": [
  {
   "cell_type": "raw",
   "metadata": {},
   "source": [
    "Alphavantage API\n",
    "Pull data for crypto currency and save to csv"
   ]
  },
  {
   "cell_type": "code",
   "execution_count": 2,
   "metadata": {},
   "outputs": [],
   "source": [
    "# Dependencies and Setup\n",
    "import matplotlib.pyplot as plt\n",
    "import pandas as pd\n",
    "import numpy as np\n",
    "import requests\n",
    "import json\n",
    "import threading\n",
    "import time\n",
    "\n",
    "\n",
    "# Import API key\n",
    "from api_keys import api_key"
   ]
  },
  {
   "cell_type": "markdown",
   "metadata": {},
   "source": [
    "API code"
   ]
  },
  {
   "cell_type": "code",
   "execution_count": 5,
   "metadata": {},
   "outputs": [
    {
     "name": "stdout",
     "output_type": "stream",
     "text": [
      "procedure complete:  1\n",
      "procedure complete:  2\n",
      "procedure complete:  3\n",
      "procedure complete:  4\n",
      "procedure complete:  5\n",
      "procedure complete:  6\n"
     ]
    }
   ],
   "source": [
    "# function to run API request\n",
    "def mi_api(cnt):\n",
    "    MarketIndex=[]\n",
    "    if cnt == 1:\n",
    "        MarketIndex = ['BTC','LTC','NMC','PPC','DOGE']\n",
    "    elif cnt ==2:\n",
    "        MarketIndex =['XDG','XBT','GRC','XPM', 'XRP']\n",
    "    elif cnt ==3:\n",
    "        MarketIndex =['NXT','AUR','DASH','NEO','MZC']\n",
    "    elif cnt ==4:\n",
    "        MarketIndex =['XMR','XEM','POT','TIT','XVG']\n",
    "    elif cnt ==5:\n",
    "        MarketIndex =['XLM','VTC','ETH','ETC','USDT']\n",
    "    elif cnt ==6:\n",
    "        MarketIndex =['ZEC','BCH','EOS']\n",
    "    return MarketIndex\n",
    "\n",
    "    \n",
    "# dictionary to hold the json result    \n",
    "\n",
    "coinDict = {}\n",
    "# setup URL\n",
    "url = \"https://www.alphavantage.co/query?\"\n",
    "function = \"TIME_SERIES_WEEKLY\"\n",
    "    \n",
    "i = 0\n",
    "oldtime = time.time()\n",
    "while True:  \n",
    "    i += 1 \n",
    "    if i < 4:\n",
    "        Market = mi_api(i)\n",
    "        for MI in Market:\n",
    "            query_url = f\"{url}function={function}&symbol={MI}&apikey={api_key}\"\n",
    "            coinDict.update({MI : requests.get(query_url).json()}  )\n",
    "                \n",
    "    time.sleep(65)\n",
    "    if i == 7:  \n",
    "        break\n",
    "    print(\"procedure complete: \", i)"
   ]
  },
  {
   "cell_type": "markdown",
   "metadata": {},
   "source": [
    "Convert to dataframe"
   ]
  },
  {
   "cell_type": "code",
   "execution_count": 7,
   "metadata": {},
   "outputs": [
    {
     "name": "stdout",
     "output_type": "stream",
     "text": [
      "error data not added to dataframe:  LTC\n",
      "error data not added to dataframe:  NMC\n",
      "error data not added to dataframe:  PPC\n",
      "error data not added to dataframe:  DOGE\n",
      "error data not added to dataframe:  XDG\n",
      "error data not added to dataframe:  XBT\n",
      "error data not added to dataframe:  XPM\n",
      "error data not added to dataframe:  NXT\n",
      "error data not added to dataframe:  DASH\n",
      "error data not added to dataframe:  MZC\n"
     ]
    },
    {
     "data": {
      "text/html": [
       "<div>\n",
       "<style scoped>\n",
       "    .dataframe tbody tr th:only-of-type {\n",
       "        vertical-align: middle;\n",
       "    }\n",
       "\n",
       "    .dataframe tbody tr th {\n",
       "        vertical-align: top;\n",
       "    }\n",
       "\n",
       "    .dataframe thead th {\n",
       "        text-align: right;\n",
       "    }\n",
       "</style>\n",
       "<table border=\"1\" class=\"dataframe\">\n",
       "  <thead>\n",
       "    <tr style=\"text-align: right;\">\n",
       "      <th></th>\n",
       "      <th>Symbol</th>\n",
       "      <th>Week</th>\n",
       "      <th>Open</th>\n",
       "      <th>High</th>\n",
       "      <th>Low</th>\n",
       "      <th>Close</th>\n",
       "      <th>Volume</th>\n",
       "    </tr>\n",
       "  </thead>\n",
       "  <tbody>\n",
       "    <tr>\n",
       "      <th>0</th>\n",
       "      <td>BTC</td>\n",
       "      <td>2001-08-24</td>\n",
       "      <td>0.0000</td>\n",
       "      <td>0.0000</td>\n",
       "      <td>0.0000</td>\n",
       "      <td>0.0700</td>\n",
       "      <td>0</td>\n",
       "    </tr>\n",
       "    <tr>\n",
       "      <th>1</th>\n",
       "      <td>BTC</td>\n",
       "      <td>2000-11-17</td>\n",
       "      <td>0.0000</td>\n",
       "      <td>0.0000</td>\n",
       "      <td>0.0000</td>\n",
       "      <td>3.0000</td>\n",
       "      <td>0</td>\n",
       "    </tr>\n",
       "    <tr>\n",
       "      <th>2</th>\n",
       "      <td>BTC</td>\n",
       "      <td>2000-08-15</td>\n",
       "      <td>0.0000</td>\n",
       "      <td>0.0000</td>\n",
       "      <td>0.0000</td>\n",
       "      <td>2.5000</td>\n",
       "      <td>0</td>\n",
       "    </tr>\n",
       "    <tr>\n",
       "      <th>3</th>\n",
       "      <td>BTC</td>\n",
       "      <td>2000-08-11</td>\n",
       "      <td>0.0000</td>\n",
       "      <td>0.0000</td>\n",
       "      <td>0.0000</td>\n",
       "      <td>2.1875</td>\n",
       "      <td>0</td>\n",
       "    </tr>\n",
       "    <tr>\n",
       "      <th>4</th>\n",
       "      <td>GRC</td>\n",
       "      <td>2019-03-29</td>\n",
       "      <td>33.5300</td>\n",
       "      <td>34.3800</td>\n",
       "      <td>33.2001</td>\n",
       "      <td>33.9400</td>\n",
       "      <td>185051</td>\n",
       "    </tr>\n",
       "  </tbody>\n",
       "</table>\n",
       "</div>"
      ],
      "text/plain": [
       "  Symbol        Week     Open     High      Low    Close  Volume\n",
       "0    BTC  2001-08-24   0.0000   0.0000   0.0000   0.0700       0\n",
       "1    BTC  2000-11-17   0.0000   0.0000   0.0000   3.0000       0\n",
       "2    BTC  2000-08-15   0.0000   0.0000   0.0000   2.5000       0\n",
       "3    BTC  2000-08-11   0.0000   0.0000   0.0000   2.1875       0\n",
       "4    GRC  2019-03-29  33.5300  34.3800  33.2001  33.9400  185051"
      ]
     },
     "execution_count": 7,
     "metadata": {},
     "output_type": "execute_result"
    }
   ],
   "source": [
    "#create a dataframe for dictionary\n",
    "coinT=pd.DataFrame()\n",
    "coinT['Symbol'] = ''\n",
    "coinT['Week'] = ''\n",
    "coinT['Open'] = ''\n",
    "coinT['High'] = ''\n",
    "coinT['Low'] = ''\n",
    "coinT['Close'] = ''\n",
    "coinT['Volume'] = ''\n",
    "\n",
    "# unpack dictionary result from Json and add to dataframe\n",
    "for key in coinDict:\n",
    "    try:\n",
    "        for lkey in coinDict[key]['Weekly Time Series']:\n",
    "            coinT= coinT.append(pd.Series([key, lkey\n",
    "              , coinDict[key]['Weekly Time Series'][lkey]['1. open']\n",
    "              ,coinDict[key]['Weekly Time Series'][lkey]['2. high']\n",
    "              ,coinDict[key]['Weekly Time Series'][lkey]['3. low']\n",
    "              ,coinDict[key]['Weekly Time Series'][lkey]['4. close']\n",
    "              ,coinDict[key]['Weekly Time Series'][lkey]['5. volume']\n",
    "                                      ], index=coinT.columns), ignore_index=True)\n",
    "            #print(key, lkey)\n",
    "            \n",
    "    except (KeyError, IndexError):\n",
    "        print('error data not added to dataframe: ', key)\n",
    "        \n",
    "\n",
    "#save into CSV\n",
    "coinT.to_csv(\"output/CoinIndex.csv\", index=False, header=True)\n",
    "\n",
    "# view data in datframe\n",
    "coinT.head()"
   ]
  },
  {
   "cell_type": "code",
   "execution_count": null,
   "metadata": {},
   "outputs": [],
   "source": []
  }
 ],
 "metadata": {
  "kernelspec": {
   "display_name": "Python 3",
   "language": "python",
   "name": "python3"
  },
  "language_info": {
   "codemirror_mode": {
    "name": "ipython",
    "version": 3
   },
   "file_extension": ".py",
   "mimetype": "text/x-python",
   "name": "python",
   "nbconvert_exporter": "python",
   "pygments_lexer": "ipython3",
   "version": "3.6.7"
  }
 },
 "nbformat": 4,
 "nbformat_minor": 2
}
