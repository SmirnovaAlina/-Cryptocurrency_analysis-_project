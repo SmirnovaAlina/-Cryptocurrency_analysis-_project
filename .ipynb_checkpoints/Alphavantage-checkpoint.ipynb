{
 "cells": [
  {
   "cell_type": "markdown",
   "metadata": {},
   "source": [
    "Alphavantage API\n",
    "Pull data for major US market index and save to csv"
   ]
  },
  {
   "cell_type": "code",
   "execution_count": 10,
   "metadata": {},
   "outputs": [],
   "source": [
    "# Dependencies and Setup\n",
    "import matplotlib.pyplot as plt\n",
    "import pandas as pd\n",
    "import numpy as np\n",
    "import requests\n",
    "import json\n",
    "import threading\n",
    "import time\n",
    "\n",
    "\n",
    "# Import API key\n",
    "from api_keys import api_key"
   ]
  },
  {
   "cell_type": "markdown",
   "metadata": {},
   "source": [
    "API code"
   ]
  },
  {
   "cell_type": "code",
   "execution_count": 11,
   "metadata": {},
   "outputs": [
    {
     "name": "stdout",
     "output_type": "stream",
     "text": [
      "procedure complete\n",
      "procedure complete\n",
      "procedure complete\n"
     ]
    }
   ],
   "source": [
    "# function to run API request\n",
    "def mi_api(cnt):\n",
    "    MarketIndex=[]\n",
    "    if cnt == 1:\n",
    "        MarketIndex = ['DJIA','DJT','DJU','NDX']\n",
    "    elif cnt ==2:\n",
    "        MarketIndex =['NYA','SPX','MID','OEX']\n",
    "    elif cnt ==3:\n",
    "        MarketIndex =['SOX','XAU','XOI','RUT']\n",
    "    return MarketIndex\n",
    "    \n",
    "# dictionary to hold the json result    \n",
    "\n",
    "mainDict = {}\n",
    "# setup URL\n",
    "url = \"https://www.alphavantage.co/query?\"\n",
    "function = \"TIME_SERIES_WEEKLY\"\n",
    "    \n",
    "i = 0\n",
    "oldtime = time.time()\n",
    "while True:  \n",
    "    i += 1 \n",
    "    if i < 4:\n",
    "        Market = mi_api(i)\n",
    "        for MI in Market:\n",
    "            query_url = f\"{url}function={function}&symbol={MI}&apikey={api_key}\"\n",
    "            response = requests.get(query_url).json()\n",
    "            mainDict.update({MI : requests.get(query_url).json()}  )\n",
    "                \n",
    "    time.sleep(65)\n",
    "    if i == 4:  \n",
    "        break\n",
    "    print(\"procedure complete\")"
   ]
  },
  {
   "cell_type": "markdown",
   "metadata": {},
   "source": [
    "Convert to dataframe"
   ]
  },
  {
   "cell_type": "code",
   "execution_count": 13,
   "metadata": {},
   "outputs": [
    {
     "name": "stdout",
     "output_type": "stream",
     "text": [
      "error data not added to dataframe:  NDX\n",
      "error data not added to dataframe:  MID\n",
      "error data not added to dataframe:  OEX\n",
      "error data not added to dataframe:  XOI\n",
      "error data not added to dataframe:  RUT\n"
     ]
    },
    {
     "data": {
      "text/html": [
       "<div>\n",
       "<style scoped>\n",
       "    .dataframe tbody tr th:only-of-type {\n",
       "        vertical-align: middle;\n",
       "    }\n",
       "\n",
       "    .dataframe tbody tr th {\n",
       "        vertical-align: top;\n",
       "    }\n",
       "\n",
       "    .dataframe thead th {\n",
       "        text-align: right;\n",
       "    }\n",
       "</style>\n",
       "<table border=\"1\" class=\"dataframe\">\n",
       "  <thead>\n",
       "    <tr style=\"text-align: right;\">\n",
       "      <th></th>\n",
       "      <th>Symbol</th>\n",
       "      <th>Week</th>\n",
       "      <th>Open</th>\n",
       "      <th>High</th>\n",
       "      <th>Low</th>\n",
       "      <th>Close</th>\n",
       "      <th>Volume</th>\n",
       "    </tr>\n",
       "  </thead>\n",
       "  <tbody>\n",
       "    <tr>\n",
       "      <th>0</th>\n",
       "      <td>DJIA</td>\n",
       "      <td>2019-03-29</td>\n",
       "      <td>25490.7207</td>\n",
       "      <td>25949.3203</td>\n",
       "      <td>10000.0000</td>\n",
       "      <td>25928.6797</td>\n",
       "      <td>1416360000</td>\n",
       "    </tr>\n",
       "    <tr>\n",
       "      <th>1</th>\n",
       "      <td>DJIA</td>\n",
       "      <td>2019-03-22</td>\n",
       "      <td>25801.8809</td>\n",
       "      <td>26109.6797</td>\n",
       "      <td>25501.4492</td>\n",
       "      <td>25502.3203</td>\n",
       "      <td>1785520000</td>\n",
       "    </tr>\n",
       "    <tr>\n",
       "      <th>2</th>\n",
       "      <td>DJIA</td>\n",
       "      <td>2019-03-15</td>\n",
       "      <td>25208.0000</td>\n",
       "      <td>25927.9102</td>\n",
       "      <td>25208.0000</td>\n",
       "      <td>25848.8691</td>\n",
       "      <td>1878630000</td>\n",
       "    </tr>\n",
       "    <tr>\n",
       "      <th>3</th>\n",
       "      <td>DJIA</td>\n",
       "      <td>2019-03-08</td>\n",
       "      <td>26122.1895</td>\n",
       "      <td>26155.9805</td>\n",
       "      <td>25252.4609</td>\n",
       "      <td>25450.2402</td>\n",
       "      <td>1363660000</td>\n",
       "    </tr>\n",
       "    <tr>\n",
       "      <th>4</th>\n",
       "      <td>DJIA</td>\n",
       "      <td>2019-03-01</td>\n",
       "      <td>26126.1504</td>\n",
       "      <td>26241.4199</td>\n",
       "      <td>25877.2402</td>\n",
       "      <td>26026.3203</td>\n",
       "      <td>1423240000</td>\n",
       "    </tr>\n",
       "  </tbody>\n",
       "</table>\n",
       "</div>"
      ],
      "text/plain": [
       "  Symbol        Week        Open        High         Low       Close  \\\n",
       "0   DJIA  2019-03-29  25490.7207  25949.3203  10000.0000  25928.6797   \n",
       "1   DJIA  2019-03-22  25801.8809  26109.6797  25501.4492  25502.3203   \n",
       "2   DJIA  2019-03-15  25208.0000  25927.9102  25208.0000  25848.8691   \n",
       "3   DJIA  2019-03-08  26122.1895  26155.9805  25252.4609  25450.2402   \n",
       "4   DJIA  2019-03-01  26126.1504  26241.4199  25877.2402  26026.3203   \n",
       "\n",
       "       Volume  \n",
       "0  1416360000  \n",
       "1  1785520000  \n",
       "2  1878630000  \n",
       "3  1363660000  \n",
       "4  1423240000  "
      ]
     },
     "execution_count": 13,
     "metadata": {},
     "output_type": "execute_result"
    }
   ],
   "source": [
    "#create a dataframe for dictionary\n",
    "dataT=pd.DataFrame()\n",
    "dataT['Symbol'] = ''\n",
    "dataT['Week'] = ''\n",
    "dataT['Open'] = ''\n",
    "dataT['High'] = ''\n",
    "dataT['Low'] = ''\n",
    "dataT['Close'] = ''\n",
    "dataT['Volume'] = ''\n",
    "\n",
    "# unpack dictionary result from Json and add to dataframe\n",
    "for key in mainDict:\n",
    "    try:\n",
    "        for lkey in mainDict[key]['Weekly Time Series']:\n",
    "            dataT= dataT.append(pd.Series([key, lkey\n",
    "              , mainDict[key]['Weekly Time Series'][lkey]['1. open']\n",
    "              ,mainDict[key]['Weekly Time Series'][lkey]['2. high']\n",
    "              ,mainDict[key]['Weekly Time Series'][lkey]['3. low']\n",
    "              ,mainDict[key]['Weekly Time Series'][lkey]['4. close']\n",
    "              ,mainDict[key]['Weekly Time Series'][lkey]['5. volume']\n",
    "                                      ], index=dataT.columns), ignore_index=True)\n",
    "            #print(key, lkey)\n",
    "            \n",
    "    except (KeyError, IndexError):\n",
    "        print('error data not added to dataframe: ', key)\n",
    "        \n",
    "\n",
    "#save into CSV\n",
    "dataT.to_csv(\"output/MarketIndex.csv\", index=False, header=True)\n",
    "\n",
    "# view data in datframe\n",
    "dataT.head()"
   ]
  },
  {
   "cell_type": "code",
   "execution_count": null,
   "metadata": {},
   "outputs": [],
   "source": []
  }
 ],
 "metadata": {
  "kernelspec": {
   "display_name": "Python 3",
   "language": "python",
   "name": "python3"
  },
  "language_info": {
   "codemirror_mode": {
    "name": "ipython",
    "version": 3
   },
   "file_extension": ".py",
   "mimetype": "text/x-python",
   "name": "python",
   "nbconvert_exporter": "python",
   "pygments_lexer": "ipython3",
   "version": "3.6.7"
  }
 },
 "nbformat": 4,
 "nbformat_minor": 2
}
