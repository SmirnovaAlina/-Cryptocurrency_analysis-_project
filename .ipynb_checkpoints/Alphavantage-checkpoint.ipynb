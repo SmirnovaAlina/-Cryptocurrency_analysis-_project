{
 "cells": [
  {
   "cell_type": "markdown",
   "metadata": {},
   "source": [
    "alphavantage API"
   ]
  },
  {
   "cell_type": "code",
   "execution_count": 19,
   "metadata": {},
   "outputs": [],
   "source": [
    "# Dependencies and Setup\n",
    "import matplotlib.pyplot as plt\n",
    "import pandas as pd\n",
    "import numpy as np\n",
    "import requests\n",
    "import json\n",
    "\n",
    "# Import API key\n",
    "from api_keys import api_key"
   ]
  },
  {
   "cell_type": "code",
   "execution_count": 126,
   "metadata": {},
   "outputs": [
    {
     "name": "stdout",
     "output_type": "stream",
     "text": [
      "NDX\n",
      "SOX\n"
     ]
    }
   ],
   "source": [
    "MarketIndex = ['DJIA','DJT','DJU','NDX','COMP','NYA','SPX','MID','OEX','IXCO','SOX','XAU','XOI','RUT']\n",
    "mainDict = {}\n",
    "\n",
    "\n",
    "# setup URL\n",
    "url = \"https://www.alphavantage.co/query?function=TIME_SERIES_WEEKLY&symbol=MSFT&apikey=api_key\"\n",
    "function = \"TIME_SERIES_WEEKLY\"\n",
    "\n",
    "for MI in MarketIndex:\n",
    "    # Build partial query URL & append to dictionary\n",
    "    query_url = f\"{url}function={function}&symbol={MI}&apikey={api_key}\"\n",
    "    mainDict.update({MI : requests.get(query_url).json()})\n",
    "    print(MI)"
   ]
  },
  {
   "cell_type": "code",
   "execution_count": 143,
   "metadata": {},
   "outputs": [
    {
     "name": "stdout",
     "output_type": "stream",
     "text": [
      "dict_keys(['NDX', 'SOX'])\n",
      "Symbol: NDX\n",
      "key: Meta Data\n",
      "key: Weekly Time Series\n",
      "Symbol: SOX\n",
      "key: Meta Data\n",
      "key: Weekly Time Series\n"
     ]
    }
   ],
   "source": [
    "#unpack main dictionary\n",
    "print(mainDict.keys())\n",
    "\n",
    "for first, second in mainDict.items():\n",
    "    print('Symbol:', first)\n",
    "    for key in second:\n",
    "        print('key:', key)\n",
    "\n"
   ]
  },
  {
   "cell_type": "code",
   "execution_count": 123,
   "metadata": {},
   "outputs": [
    {
     "name": "stdout",
     "output_type": "stream",
     "text": [
      "{'Meta Data': {'1. Information': 'Weekly Prices (open, high, low, close) and Volumes', '2. Symbol': 'NDX', '3. Last Refreshed': '2019-03-28', '4. Time Zone': 'US/Eastern'}, 'Weekly Time Series': {'2000-01-14': {'1. open': '3558.0000', '2. high': '3756.0000', '3. low': '3448.0000', '4. close': '3705.0000', '5. volume': '8045670000'}}}\n"
     ]
    }
   ],
   "source": [
    "data ={\"NDX\": {\n",
    "    \"Meta Data\": {\n",
    "        \"1. Information\": \"Weekly Prices (open, high, low, close) and Volumes\",\n",
    "        \"2. Symbol\": \"NDX\",\n",
    "        \"3. Last Refreshed\": \"2019-03-28\",\n",
    "        \"4. Time Zone\": \"US/Eastern\"\n",
    "    },\n",
    "    \"Weekly Time Series\": {\n",
    "        \"2000-01-14\": {\n",
    "            \"1. open\": \"3558.0000\",\n",
    "            \"2. high\": \"3756.0000\",\n",
    "            \"3. low\": \"3448.0000\",\n",
    "            \"4. close\": \"3705.0000\",\n",
    "            \"5. volume\": \"8045670000\"\n",
    "        }\n",
    "}\n",
    "}\n",
    "}\n",
    "\n",
    "print(data[\"NDX\"])\n",
    "#date = data['Weekly Time Series'].keys()\n",
    "#stock = pd.DataFrame()\n",
    "#for x in date\n",
    "    \n",
    "#data['Meta Data']\n",
    "#list(data['Weekly Time Series'].values())[0]['1. open']\n",
    "\n",
    "#print(response['Meta Data']['2. Symbol'])\n",
    "#print(list((response['Weekly Time Series']).keys())[1])\n",
    "#for each item in the keys get the following:\n",
    "#print((list((response['Weekly Time Series']).values())['2019-03-22'])['1. open'])\n",
    "#print(json.dumps(response, indent=4, sort_keys=True))\n",
    "#print((list((response['Weekly Time Series']).values())['2019-03-22'])['1. open'])"
   ]
  },
  {
   "cell_type": "code",
   "execution_count": null,
   "metadata": {},
   "outputs": [],
   "source": [
    "#get weekly dates for all responses\n",
    "#append date/symbol combo to list\n",
    "#create a dataFrame starting with Date/symbol\n",
    "#iterate through all responses to populate the rest of the data"
   ]
  }
 ],
 "metadata": {
  "kernelspec": {
   "display_name": "Python 3",
   "language": "python",
   "name": "python3"
  },
  "language_info": {
   "codemirror_mode": {
    "name": "ipython",
    "version": 3
   },
   "file_extension": ".py",
   "mimetype": "text/x-python",
   "name": "python",
   "nbconvert_exporter": "python",
   "pygments_lexer": "ipython3",
   "version": "3.6.7"
  }
 },
 "nbformat": 4,
 "nbformat_minor": 2
}
